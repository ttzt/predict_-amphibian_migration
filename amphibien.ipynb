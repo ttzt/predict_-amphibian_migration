{
 "cells": [
  {
   "cell_type": "code",
   "execution_count": 1,
   "metadata": {},
   "outputs": [],
   "source": [
    "import pandas as pd\n",
    "import numpy as np\n",
    "import requests \n",
    "from sklearn.metrics import accuracy_score, confusion_matrix, classification_report\n",
    "from sklearn.ensemble import RandomForestClassifier, ExtraTreesClassifier, GradientBoostingClassifier\n"
   ]
  },
  {
   "cell_type": "code",
   "execution_count": 2,
   "metadata": {},
   "outputs": [],
   "source": [
    "years = [2017,2018,2019]\n",
    "activity_url = 'https://amphis.rails-apps.de/sites/{}/activity.csv?year={}'\n",
    "df4 = pd.concat([pd.read_csv(activity_url.format(4, year)) for year in years])\n",
    "df3 = pd.concat([pd.read_csv(activity_url.format(3, year)) for year in years])\n",
    "df_training = pd.concat([df3,df4])"
   ]
  },
  {
   "cell_type": "code",
   "execution_count": 3,
   "metadata": {},
   "outputs": [],
   "source": [
    "df_training=df_training[['Datum','Luftfeuchtigkeit [%]','Anzahl','Site','Temperature min','Temperature max','Windspeed avg','Windspeed max']]\n",
    "df_training.columns = df_training.columns.str.replace('[^a-zA-Z]', '')\n",
    "df_training['purpose']='training'\n",
    "df_training.dropna(inplace=True)\n"
   ]
  },
  {
   "cell_type": "code",
   "execution_count": 4,
   "metadata": {},
   "outputs": [],
   "source": [
    "sites = [3,4]\n",
    "forecast_url = 'https://amphis.rails-apps.de/sites/{}/forecasts.csv'\n",
    "dfs = []\n",
    "for site in sites:\n",
    "    try:\n",
    "        dfs.append(pd.read_csv(forecast_url.format(site)))\n",
    "    except:\n",
    "        print(\"No forecast data for site %d\" % site)\n",
    "df_forecast = pd.concat(dfs)"
   ]
  },
  {
   "cell_type": "code",
   "execution_count": 5,
   "metadata": {},
   "outputs": [],
   "source": [
    "df_forecast.rename(columns={'Standort-ID':'Site', \\\n",
    "                           'Humidity avg':'Luftfeuchtigkeit', \\\n",
    "                           'Min. Temp. (°C)': 'Temperaturemin', \\\n",
    "                           'Max. Temp. (°C)': 'Temperaturemax', \\\n",
    "                           'Wind speed avg kmh': 'Windspeedavg', \\\n",
    "                           'Wind speed max kmh': 'Windspeedmax'}, inplace=True)"
   ]
  },
  {
   "cell_type": "code",
   "execution_count": 6,
   "metadata": {},
   "outputs": [],
   "source": [
    "df_forecast=df_forecast[['Datum','Site','Luftfeuchtigkeit','Temperaturemin','Temperaturemax','Windspeedavg', 'Windspeedmax']]\n",
    "df_forecast['purpose']='forecast'\n",
    "df_forecast.dropna(inplace=True)\n",
    "\n",
    "df_predictions = df_forecast[['Datum','Site']]"
   ]
  },
  {
   "cell_type": "code",
   "execution_count": 7,
   "metadata": {},
   "outputs": [
    {
     "name": "stderr",
     "output_type": "stream",
     "text": [
      "/opt/conda/lib/python3.7/site-packages/ipykernel_launcher.py:1: FutureWarning: Sorting because non-concatenation axis is not aligned. A future version\n",
      "of pandas will change to not sort by default.\n",
      "\n",
      "To accept the future behavior, pass 'sort=False'.\n",
      "\n",
      "To retain the current behavior and silence the warning, pass 'sort=True'.\n",
      "\n",
      "  \"\"\"Entry point for launching an IPython kernel.\n"
     ]
    }
   ],
   "source": [
    "df = pd.concat([df_training, df_forecast])"
   ]
  },
  {
   "cell_type": "code",
   "execution_count": 8,
   "metadata": {},
   "outputs": [],
   "source": [
    "df['date'] = df['Datum'].astype('datetime64') \n",
    "df = df.drop(columns=['Datum'])\n",
    "df['doy']=df.apply(lambda x:x.date.timetuple().tm_yday, axis = 1)\n",
    "df['year']=df.apply(lambda x:x.date.year, axis = 1)"
   ]
  },
  {
   "cell_type": "code",
   "execution_count": 9,
   "metadata": {},
   "outputs": [],
   "source": [
    "def passed(df, Site, year, doy):\n",
    "    df_filtered = df[(df['Site'] == Site) \\\n",
    "       & (df['year']==year) \\\n",
    "       & (df['doy'] < doy) ]\n",
    "    return df_filtered.Anzahl.sum()\n",
    "df['passed'] = df.apply(lambda x: passed(df, x.Site, x.year, x.doy), axis = 1)"
   ]
  },
  {
   "cell_type": "code",
   "execution_count": 10,
   "metadata": {},
   "outputs": [],
   "source": [
    "def add_history_data(df):\n",
    "    df_day1 = df.copy().drop(columns=['purpose']).rename(index=str, columns={\"Luftfeuchtigkeit\": \"Luftfeuchtigkeit_day1\", \"Anzahl\": \"Anzahl_day1\", \\\n",
    "                                                   \"Temperaturemin\": \"Temperaturemin_day1\",\n",
    "                                                   \"Temperaturemax\": \"Temperaturemax_day1\", \\\n",
    "                                                   \"Windspeedavg\": \"Windspeedavg_day1\",\n",
    "                                                   \"Windspeedmax\": \"Windspeedmax_day1\", \"passed\": \"passed_day1\"})\n",
    "    df_day1['date'] = pd.to_datetime(df_day1['date']).apply(pd.DateOffset(-1))\n",
    "    df_day1.drop(columns=['year', 'doy'], inplace=True)\n",
    "    df_hist1 = pd.merge(df, df_day1, how='left', on=['date', 'Site'])\n",
    "\n",
    "    df_day2 = df.copy().drop(columns=['purpose']).rename(index=str, columns={\"Luftfeuchtigkeit\": \"Luftfeuchtigkeit_day2\", \"Anzahl\": \"Anzahl_day2\", \\\n",
    "                                                   \"Temperaturemin\": \"Temperaturemin_day2\",\n",
    "                                                   \"Temperaturemax\": \"Temperaturemax_day2\", \\\n",
    "                                                   \"Windspeedavg\": \"Windspeedavg_day2\",\n",
    "                                                   \"Windspeedmax\": \"Windspeedmax_day2\", \"passed\": \"passed_day2\"})\n",
    "    df_day2['date'] = pd.to_datetime(df_day2['date']).apply(pd.DateOffset(-2))\n",
    "    df_day2.drop(columns=['year', 'doy'], inplace=True)\n",
    "    df_hist2 = pd.merge(df_hist1, df_day2, how='left', on=['date', 'Site'])\n",
    "\n",
    "    df_day3 = df.copy().drop(columns=['purpose']).rename(index=str, columns={\"Luftfeuchtigkeit\": \"Luftfeuchtigkeit_day3\", \"Anzahl\": \"Anzahl_day3\", \\\n",
    "                                                   \"Temperaturemin\": \"Temperaturemin_day3\",\n",
    "                                                   \"Temperaturemax\": \"Temperaturemax_day3\", \\\n",
    "                                                   \"Windspeedavg\": \"Windspeedavg_day3\",\n",
    "                                                   \"Windspeedmax\": \"Windspeedmax_day3\", \"passed\": \"passed_day3\"})\n",
    "    df_day3['date'] = pd.to_datetime(df_day3['date']).apply(pd.DateOffset(-3))\n",
    "    df_day3.drop(columns=['year', 'doy'], inplace=True)\n",
    "    df_hist3 = pd.merge(df_hist2, df_day3, how='left', on=['date', 'Site'])\n",
    "    return df_hist3\n",
    "\n",
    "df_hist=add_history_data(df)\n"
   ]
  },
  {
   "cell_type": "code",
   "execution_count": 11,
   "metadata": {},
   "outputs": [],
   "source": [
    "def bucket(Anzahl, purpose):\n",
    "    if(purpose=='forecast'):\n",
    "        return \"\"\n",
    "    if(Anzahl==0):\n",
    "        return \"0\"\n",
    "    if(Anzahl<50):\n",
    "        return \"1-50\"\n",
    "    if(Anzahl<150):\n",
    "        return \"50-150\"\n",
    "    if(Anzahl<300):\n",
    "        return \"150-300\"\n",
    "    return \">300\"\n",
    "\n",
    "df_hist['bucket'] = df_hist.apply(lambda x: bucket(x.Anzahl, x.purpose), axis=1)"
   ]
  },
  {
   "cell_type": "code",
   "execution_count": 12,
   "metadata": {},
   "outputs": [],
   "source": [
    "def float2int(df):\n",
    "    float_col = df.select_dtypes(include = ['float64']) # This will select float columns only\n",
    "    for col in float_col.columns.values:\n",
    "        df[col] = df[col].astype('int64')\n",
    "    return df\n",
    "\n",
    "df_hist = df_hist.fillna(0)\n",
    "df_hist = float2int(df_hist)"
   ]
  },
  {
   "cell_type": "code",
   "execution_count": 13,
   "metadata": {},
   "outputs": [
    {
     "name": "stderr",
     "output_type": "stream",
     "text": [
      "/opt/conda/lib/python3.7/site-packages/pandas/core/frame.py:3940: SettingWithCopyWarning: \n",
      "A value is trying to be set on a copy of a slice from a DataFrame\n",
      "\n",
      "See the caveats in the documentation: http://pandas.pydata.org/pandas-docs/stable/indexing.html#indexing-view-versus-copy\n",
      "  errors=errors)\n"
     ]
    }
   ],
   "source": [
    "df_training = df_hist.query(\"purpose=='training'\")\n",
    "df_forecast = df_hist.query(\"purpose=='forecast'\")\n",
    "df_x = df_training.drop(columns=['Anzahl','date','bucket','purpose'])\n",
    "df_y = df_training[['bucket']]\n",
    "df_forecast.drop(columns=['purpose','date','bucket','Anzahl'], inplace=True)"
   ]
  },
  {
   "cell_type": "code",
   "execution_count": 14,
   "metadata": {},
   "outputs": [],
   "source": [
    "from sklearn.model_selection import train_test_split\n",
    "x_train, x_test, y_train, y_test = train_test_split(df_x, df_y, test_size=0.30)"
   ]
  },
  {
   "cell_type": "code",
   "execution_count": 15,
   "metadata": {},
   "outputs": [
    {
     "name": "stdout",
     "output_type": "stream",
     "text": [
      "0.5794392523364486\n",
      "              precision    recall  f1-score   support\n",
      "\n",
      "           0       0.74      0.81      0.77        42\n",
      "        1-50       0.53      0.78      0.63        36\n",
      "     150-300       0.00      0.00      0.00        12\n",
      "      50-150       0.00      0.00      0.00        12\n",
      "        >300       0.00      0.00      0.00         5\n",
      "\n",
      "   micro avg       0.58      0.58      0.58       107\n",
      "   macro avg       0.25      0.32      0.28       107\n",
      "weighted avg       0.47      0.58      0.52       107\n",
      "\n",
      "[[34  8  0  0  0]\n",
      " [ 7 28  0  1  0]\n",
      " [ 3  6  0  0  3]\n",
      " [ 2  9  0  0  1]\n",
      " [ 0  2  1  2  0]]\n"
     ]
    },
    {
     "name": "stderr",
     "output_type": "stream",
     "text": [
      "/opt/conda/lib/python3.7/site-packages/ipykernel_launcher.py:3: DataConversionWarning: A column-vector y was passed when a 1d array was expected. Please change the shape of y to (n_samples,), for example using ravel().\n",
      "  This is separate from the ipykernel package so we can avoid doing imports until\n"
     ]
    }
   ],
   "source": [
    "clf = RandomForestClassifier(n_estimators=30, max_depth=15, \\\n",
    "                             class_weight={\"0\":1, \"1-50\":1, \"50-150\": 5, \"150-300\":20, \">300\":40})\n",
    "clf.fit(x_train, y_train)\n",
    "y_pred = clf.predict(x_test)\n",
    "\n",
    "print(accuracy_score(y_pred,y_test))\n",
    "print(classification_report(y_test, y_pred))\n",
    "print(confusion_matrix(y_test, y_pred))"
   ]
  },
  {
   "cell_type": "code",
   "execution_count": 16,
   "metadata": {},
   "outputs": [
    {
     "name": "stdout",
     "output_type": "stream",
     "text": [
      "Feature ranking:\n",
      "1. Anzahl_day1 (0.100873)\n",
      "2. Anzahl_day2 (0.073534)\n",
      "3. passed_day2 (0.072064)\n",
      "4. doy (0.065359)\n",
      "5. passed_day3 (0.057596)\n",
      "6. Anzahl_day3 (0.055767)\n",
      "7. passed (0.043745)\n",
      "8. Temperaturemax_day1 (0.042387)\n",
      "9. Windspeedmax_day1 (0.038344)\n",
      "10. passed_day1 (0.035416)\n",
      "11. Luftfeuchtigkeit_day1 (0.033663)\n",
      "12. Site (0.030041)\n",
      "13. Windspeedmax_day2 (0.027984)\n",
      "14. Temperaturemin_day2 (0.026249)\n",
      "15. Luftfeuchtigkeit (0.023550)\n",
      "16. Temperaturemin_day1 (0.023469)\n",
      "17. Windspeedavg_day1 (0.023447)\n",
      "18. Windspeedmax_day3 (0.022533)\n",
      "19. Luftfeuchtigkeit_day3 (0.022520)\n",
      "20. Temperaturemax (0.021939)\n",
      "21. Temperaturemax_day3 (0.021869)\n",
      "22. Temperaturemin (0.021594)\n",
      "23. year (0.019618)\n",
      "24. Windspeedmax (0.016888)\n",
      "25. Temperaturemin_day3 (0.015225)\n",
      "26. Windspeedavg (0.014967)\n",
      "27. Luftfeuchtigkeit_day2 (0.013669)\n",
      "28. Windspeedavg_day2 (0.012875)\n",
      "29. Temperaturemax_day2 (0.011891)\n",
      "30. Windspeedavg_day3 (0.010925)\n"
     ]
    }
   ],
   "source": [
    "importances = clf.feature_importances_\n",
    "std = np.std([tree.feature_importances_ for tree in clf.estimators_], axis=0)\n",
    "indices = np.argsort(importances)[::-1]\n",
    "# Print the feature ranking\n",
    "print(\"Feature ranking:\")\n",
    "\n",
    "for f in range(x_train.shape[1]):\n",
    "    print(\"%d. %s (%f)\" % (f + 1, df_x.columns[indices[f]], importances[indices[f]]))    "
   ]
  },
  {
   "cell_type": "code",
   "execution_count": 19,
   "metadata": {},
   "outputs": [
    {
     "name": "stdout",
     "output_type": "stream",
     "text": [
      "0.29906542056074764\n",
      "              precision    recall  f1-score   support\n",
      "\n",
      "           0       0.33      0.02      0.04        42\n",
      "        1-50       0.38      0.42      0.40        36\n",
      "     150-300       0.18      0.92      0.31        12\n",
      "      50-150       0.00      0.00      0.00        12\n",
      "        >300       1.00      1.00      1.00         5\n",
      "\n",
      "   micro avg       0.30      0.30      0.30       107\n",
      "   macro avg       0.38      0.47      0.35       107\n",
      "weighted avg       0.33      0.30      0.23       107\n",
      "\n",
      "[[ 1 20 21  0  0]\n",
      " [ 2 15 19  0  0]\n",
      " [ 0  1 11  0  0]\n",
      " [ 0  3  9  0  0]\n",
      " [ 0  0  0  0  5]]\n"
     ]
    },
    {
     "name": "stderr",
     "output_type": "stream",
     "text": [
      "/opt/conda/lib/python3.7/site-packages/sklearn/utils/validation.py:761: DataConversionWarning: A column-vector y was passed when a 1d array was expected. Please change the shape of y to (n_samples, ), for example using ravel().\n",
      "  y = column_or_1d(y, warn=True)\n",
      "/opt/conda/lib/python3.7/site-packages/sklearn/svm/base.py:931: ConvergenceWarning: Liblinear failed to converge, increase the number of iterations.\n",
      "  \"the number of iterations.\", ConvergenceWarning)\n",
      "/opt/conda/lib/python3.7/site-packages/sklearn/metrics/classification.py:1143: UndefinedMetricWarning: Precision and F-score are ill-defined and being set to 0.0 in labels with no predicted samples.\n",
      "  'precision', 'predicted', average, warn_for)\n"
     ]
    }
   ],
   "source": [
    "from sklearn.svm import LinearSVC\n",
    "clf = LinearSVC(class_weight={\"0\":1, \"1-50\":1, \"50-150\": 5, \"150-300\":20, \">300\":40})\n",
    "clf.fit(x_train, y_train)\n",
    "y_pred = clf.predict(x_test)\n",
    "\n",
    "print(accuracy_score(y_pred,y_test))\n",
    "print(classification_report(y_test, y_pred))\n",
    "print(confusion_matrix(y_test, y_pred))"
   ]
  },
  {
   "cell_type": "code",
   "execution_count": 24,
   "metadata": {},
   "outputs": [
    {
     "name": "stdout",
     "output_type": "stream",
     "text": [
      "0.5607476635514018\n",
      "              precision    recall  f1-score   support\n",
      "\n",
      "           0       0.70      0.71      0.71        42\n",
      "        1-50       0.58      0.53      0.55        36\n",
      "     150-300       0.29      0.17      0.21        12\n",
      "      50-150       0.24      0.33      0.28        12\n",
      "        >300       0.71      1.00      0.83         5\n",
      "\n",
      "   micro avg       0.56      0.56      0.56       107\n",
      "   macro avg       0.50      0.55      0.52       107\n",
      "weighted avg       0.56      0.56      0.56       107\n",
      "\n",
      "[[30  8  1  3  0]\n",
      " [10 19  3  4  0]\n",
      " [ 1  1  2  6  2]\n",
      " [ 2  5  1  4  0]\n",
      " [ 0  0  0  0  5]]\n"
     ]
    },
    {
     "name": "stderr",
     "output_type": "stream",
     "text": [
      "/opt/conda/lib/python3.7/site-packages/sklearn/linear_model/logistic.py:433: FutureWarning: Default solver will be changed to 'lbfgs' in 0.22. Specify a solver to silence this warning.\n",
      "  FutureWarning)\n",
      "/opt/conda/lib/python3.7/site-packages/sklearn/utils/validation.py:761: DataConversionWarning: A column-vector y was passed when a 1d array was expected. Please change the shape of y to (n_samples, ), for example using ravel().\n",
      "  y = column_or_1d(y, warn=True)\n",
      "/opt/conda/lib/python3.7/site-packages/sklearn/linear_model/logistic.py:460: FutureWarning: Default multi_class will be changed to 'auto' in 0.22. Specify the multi_class option to silence this warning.\n",
      "  \"this warning.\", FutureWarning)\n"
     ]
    }
   ],
   "source": [
    "from sklearn.linear_model import LogisticRegression\n",
    "clf = LogisticRegression(class_weight={\"0\":1, \"1-50\":1, \"50-150\": 5, \"150-300\":20, \">300\":40})\n",
    "clf.fit(x_train, y_train)\n",
    "y_pred = clf.predict(x_test)\n",
    "\n",
    "print(accuracy_score(y_pred,y_test))\n",
    "print(classification_report(y_test, y_pred))\n",
    "print(confusion_matrix(y_test, y_pred))"
   ]
  },
  {
   "cell_type": "code",
   "execution_count": 25,
   "metadata": {},
   "outputs": [
    {
     "name": "stderr",
     "output_type": "stream",
     "text": [
      "/opt/conda/lib/python3.7/site-packages/sklearn/linear_model/logistic.py:433: FutureWarning: Default solver will be changed to 'lbfgs' in 0.22. Specify a solver to silence this warning.\n",
      "  FutureWarning)\n",
      "/opt/conda/lib/python3.7/site-packages/sklearn/utils/validation.py:761: DataConversionWarning: A column-vector y was passed when a 1d array was expected. Please change the shape of y to (n_samples, ), for example using ravel().\n",
      "  y = column_or_1d(y, warn=True)\n",
      "/opt/conda/lib/python3.7/site-packages/sklearn/linear_model/logistic.py:460: FutureWarning: Default multi_class will be changed to 'auto' in 0.22. Specify the multi_class option to silence this warning.\n",
      "  \"this warning.\", FutureWarning)\n"
     ]
    },
    {
     "data": {
      "image/png": "[encoded data removed]",
      "text/plain": [
       "<Figure size 1440x720 with 1 Axes>"
      ]
     },
     "metadata": {
      "needs_background": "light"
     },
     "output_type": "display_data"
    }
   ],
   "source": [
    "from yellowbrick.features.importances import FeatureImportances\n",
    "import matplotlib.pyplot as plt\n",
    "\n",
    "fig = plt.figure(figsize=(20,10))\n",
    "ax = fig.add_subplot()\n",
    "clf = LogisticRegression(C=.1, class_weight={\"0\":1, \"1-50\":1, \"50-150\": 5, \"150-300\":20, \">300\":40})\n",
    "viz = FeatureImportances(clf, ax=ax)\n",
    "viz.fit(x_train, y_train)\n",
    "viz.poof()"
   ]
  },
  {
   "cell_type": "code",
   "execution_count": 27,
   "metadata": {},
   "outputs": [],
   "source": [
    "y_pred_live = clf.predict(df_forecast)"
   ]
  },
  {
   "cell_type": "code",
   "execution_count": 29,
   "metadata": {},
   "outputs": [],
   "source": [
    "df_predictions['Anzahl']=y_pred_live"
   ]
  },
  {
   "cell_type": "code",
   "execution_count": 30,
   "metadata": {},
   "outputs": [
    {
     "data": {
      "text/plain": [
       "[{'Datum': '2019-08-23', 'Site': 3, 'Anzahl': '0'},\n",
       " {'Datum': '2019-08-24', 'Site': 3, 'Anzahl': '0'},\n",
       " {'Datum': '2019-08-24', 'Site': 4, 'Anzahl': '0'},\n",
       " {'Datum': '2019-08-25', 'Site': 4, 'Anzahl': '0'},\n",
       " {'Datum': '2019-08-26', 'Site': 4, 'Anzahl': '0'},\n",
       " {'Datum': '2019-08-27', 'Site': 4, 'Anzahl': '0'},\n",
       " {'Datum': '2019-08-28', 'Site': 4, 'Anzahl': '0'}]"
      ]
     },
     "execution_count": 30,
     "metadata": {},
     "output_type": "execute_result"
    }
   ],
   "source": [
    "df_predictions.to_dict(orient='records')"
   ]
  },
  {
   "cell_type": "code",
   "execution_count": null,
   "metadata": {},
   "outputs": [],
   "source": []
  }
 ],
 "metadata": {
  "kernelspec": {
   "display_name": "Python 3",
   "language": "python",
   "name": "python3"
  },
  "language_info": {
   "codemirror_mode": {
    "name": "ipython",
    "version": 3
   },
   "file_extension": ".py",
   "mimetype": "text/x-python",
   "name": "python",
   "nbconvert_exporter": "python",
   "pygments_lexer": "ipython3",
   "version": "3.7.3"
  }
 },
 "nbformat": 4,
 "nbformat_minor": 2
}
